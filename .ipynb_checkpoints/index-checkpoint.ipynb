{
 "cells": [
  {
   "cell_type": "markdown",
   "metadata": {},
   "source": [
    "# Join Statements"
   ]
  },
  {
   "cell_type": "markdown",
   "metadata": {},
   "source": [
    "## Introduction"
   ]
  },
  {
   "cell_type": "markdown",
   "metadata": {},
   "source": [
    "In this lab, you'll practice your knowledge on Join statements."
   ]
  },
  {
   "cell_type": "markdown",
   "metadata": {},
   "source": [
    "## Objectives"
   ]
  },
  {
   "cell_type": "markdown",
   "metadata": {},
   "source": [
    "You will be able to:\n",
    "- Write queries that make use of various types of Joins\n",
    "- Join tables using foreign keys"
   ]
  },
  {
   "cell_type": "markdown",
   "metadata": {},
   "source": [
    "## CRM Schema\n",
    "\n",
    "In almost all cases, rather then just working with a single table we will typically need data from multiple tables. \n",
    "Doing this requires the use of **joins ** using shared columns from the two tables. \n",
    "\n",
    "In this lab, we'll use the same Customer Relationship Management (CRM) database we used in our lecture before!\n",
    "<img src='Database-Schema.png' width=550>"
   ]
  },
  {
   "cell_type": "code",
   "execution_count": 30,
   "metadata": {},
   "outputs": [
    {
     "data": {
      "text/plain": [
       "[('1969 Harley Davidson Ultimate Chopper', '9977.85')]"
      ]
     },
     "execution_count": 30,
     "metadata": {},
     "output_type": "execute_result"
    }
   ],
   "source": []
  },
  {
   "cell_type": "markdown",
   "metadata": {},
   "source": [
    "## Connecting to the Database\n",
    "Import the necessary packages and connect to the database **data.sqlite**."
   ]
  },
  {
   "cell_type": "code",
   "execution_count": 1,
   "metadata": {},
   "outputs": [],
   "source": [
    "#Your code here\n",
    "import sqlite3\n",
    "import pandas as pd\n",
    "conn = sqlite3.connect('data.sqlite', detect_types=sqlite3.PARSE_COLNAMES)\n",
    "cur = conn.cursor()"
   ]
  },
  {
   "cell_type": "markdown",
   "metadata": {},
   "source": [
    "## Display the names of all the employees in Boston."
   ]
  },
  {
   "cell_type": "code",
   "execution_count": 4,
   "metadata": {},
   "outputs": [
    {
     "data": {
      "text/plain": [
       "[('Julie', 'Firrelli'), ('Steve', 'Patterson')]"
      ]
     },
     "execution_count": 4,
     "metadata": {},
     "output_type": "execute_result"
    }
   ],
   "source": [
    "#Your code here\n",
    "cur.execute('''SELECT firstNAME, lastNAME FROM employees JOIN offices USING(officecode) WHERE city = \"Boston\"''').fetchall()"
   ]
  },
  {
   "cell_type": "markdown",
   "metadata": {},
   "source": [
    "## Do any offices have no employees?"
   ]
  },
  {
   "cell_type": "code",
   "execution_count": 10,
   "metadata": {},
   "outputs": [
    {
     "data": {
      "text/plain": [
       "[('Boston', 2),\n",
       " ('London', 2),\n",
       " ('NYC', 2),\n",
       " ('Paris', 5),\n",
       " ('San Francisco', 6),\n",
       " ('Sydney', 4),\n",
       " ('Tokyo', 2)]"
      ]
     },
     "execution_count": 10,
     "metadata": {},
     "output_type": "execute_result"
    }
   ],
   "source": [
    "#Your code here\n",
    "cur.execute('''SELECT city, COUNT(*) from offices JOIN employees USING(officecode) GROUP BY 1''').fetchall()"
   ]
  },
  {
   "cell_type": "markdown",
   "metadata": {},
   "source": [
    "## Write 3 Questions of your own and answer them"
   ]
  },
  {
   "cell_type": "code",
   "execution_count": null,
   "metadata": {},
   "outputs": [],
   "source": [
    "# Answers will vary"
   ]
  },
  {
   "cell_type": "code",
   "execution_count": 25,
   "metadata": {},
   "outputs": [
    {
     "data": {
      "text/plain": [
       "[('2001 Ferrari Enzo',),\n",
       " ('1969 Corvair Monza',),\n",
       " ('1969 Ford Falcon',),\n",
       " ('1903 Ford Model A',),\n",
       " ('Collectable Wooden Train',),\n",
       " ('1970 Triumph Spitfire',),\n",
       " ('1904 Buick Runabout',),\n",
       " ('18th century schooner',),\n",
       " ('1962 City of Detroit Streetcar',),\n",
       " ('The Mayflower',),\n",
       " ('The Queen Mary',),\n",
       " ('Pont Yacht',),\n",
       " ('1952 Alpine Renault 1300',),\n",
       " ('1962 LanciaA Delta 16V',),\n",
       " ('1958 Setra Bus',),\n",
       " ('1940 Ford Pickup Truck',),\n",
       " ('1913 Ford Model T Speedster',),\n",
       " ('1934 Ford V8 Coupe',),\n",
       " ('18th Century Vintage Horse Carriage',),\n",
       " ('1940s Ford truck',),\n",
       " ('1939 Cadillac Limousine',),\n",
       " ('1996 Peterbilt 379 Stake Bed with Outrigger',),\n",
       " ('1982 Camaro Z28',),\n",
       " ('2001 Ferrari Enzo',),\n",
       " ('1969 Corvair Monza',),\n",
       " ('1969 Ford Falcon',),\n",
       " ('1957 Chevy Pickup',),\n",
       " ('1998 Chrysler Plymouth Prowler',),\n",
       " ('1964 Mercedes Tour Bus',),\n",
       " ('1926 Ford Fire Engine',),\n",
       " ('1992 Ferrari 360 Spider red',),\n",
       " ('Collectable Wooden Train',),\n",
       " ('1970 Triumph Spitfire',),\n",
       " ('1970 Dodge Coronet',),\n",
       " ('1962 Volkswagen Microbus',),\n",
       " ('1958 Chevy Corvette Limited Edition',),\n",
       " ('1992 Porsche Cayenne Turbo Silver',),\n",
       " ('1954 Greyhound Scenicruiser',),\n",
       " (\"1950's Chicago Surface Lines Streetcar\",),\n",
       " ('Diamond T620 Semi-Skirted Tanker',),\n",
       " ('1962 City of Detroit Streetcar',),\n",
       " ('1969 Dodge Charger',),\n",
       " ('1997 BMW F650 ST',),\n",
       " ('1996 Moto Guzzi 1100i',),\n",
       " ('2003 Harley-Davidson Eagle Drag Bike',),\n",
       " ('1980s Black Hawk Helicopter',),\n",
       " ('P-51-D Mustang',),\n",
       " ('1936 Harley Davidson El Knucklehead',),\n",
       " ('1928 British Royal Navy Airplane',),\n",
       " ('1960 BSA Gold Star DBD34',),\n",
       " ('Corsair F4U ( Bird Cage)',),\n",
       " ('1900s Vintage Tri-Plane',),\n",
       " ('1997 BMW F650 ST',),\n",
       " ('1928 Ford Phaeton Deluxe',),\n",
       " ('1930 Buick Marquette Phaeton',),\n",
       " ('American Airlines: B767-300',),\n",
       " ('America West Airlines B757-200',),\n",
       " ('ATA: B757-300',),\n",
       " ('F/A 18 Hornet 1/72',),\n",
       " ('American Airlines: MD-11S',),\n",
       " ('1993 Mazda RX-7',),\n",
       " ('1995 Honda Civic',),\n",
       " ('1948 Porsche Type 356 Roadster',),\n",
       " ('P-51-D Mustang',),\n",
       " ('1928 British Royal Navy Airplane',),\n",
       " ('Corsair F4U ( Bird Cage)',),\n",
       " ('1900s Vintage Tri-Plane',),\n",
       " ('1928 Ford Phaeton Deluxe',),\n",
       " ('1930 Buick Marquette Phaeton',),\n",
       " ('American Airlines: B767-300',),\n",
       " ('America West Airlines B757-200',),\n",
       " ('F/A 18 Hornet 1/72',),\n",
       " ('American Airlines: MD-11S',),\n",
       " ('P-51-D Mustang',),\n",
       " ('1928 British Royal Navy Airplane',),\n",
       " ('1900s Vintage Tri-Plane',),\n",
       " ('1997 BMW F650 ST',),\n",
       " ('1928 Ford Phaeton Deluxe',),\n",
       " ('ATA: B757-300',),\n",
       " ('1968 Ford Mustang',),\n",
       " ('1968 Dodge Charger',),\n",
       " ('1970 Plymouth Hemi Cuda',),\n",
       " ('1969 Dodge Charger',),\n",
       " ('1948 Porsche 356-A Roadster',),\n",
       " ('1969 Dodge Super Bee',),\n",
       " ('1976 Ford Gran Torino',),\n",
       " ('1957 Vespa GS150',),\n",
       " ('1957 Corvette Convertible',),\n",
       " ('1982 Ducati 900 Monster',),\n",
       " ('1971 Alpine Renault 1600s',),\n",
       " ('1956 Porsche 356A Coupe',),\n",
       " ('1961 Chevrolet Impala',),\n",
       " ('1982 Ducati 996 R',),\n",
       " ('1974 Ducati 350 Mk3 Desmo',),\n",
       " ('2002 Yamaha YZR M1',),\n",
       " ('1980s Black Hawk Helicopter',),\n",
       " ('1900s Vintage Bi-Plane',),\n",
       " ('1937 Horch 930V Limousine',),\n",
       " ('Corsair F4U ( Bird Cage)',),\n",
       " ('America West Airlines B757-200',),\n",
       " ('American Airlines: MD-11S',),\n",
       " ('1976 Ford Gran Torino',),\n",
       " ('1957 Vespa GS150',),\n",
       " ('1957 Corvette Convertible',),\n",
       " ('1982 Ducati 900 Monster',),\n",
       " ('1952 Alpine Renault 1300',),\n",
       " ('1958 Setra Bus',),\n",
       " ('1940 Ford Pickup Truck',),\n",
       " ('1939 Cadillac Limousine',),\n",
       " ('1996 Peterbilt 379 Stake Bed with Outrigger',),\n",
       " ('1982 Camaro Z28',),\n",
       " ('1996 Moto Guzzi 1100i',),\n",
       " ('2003 Harley-Davidson Eagle Drag Bike',),\n",
       " ('P-51-D Mustang',),\n",
       " ('1936 Harley Davidson El Knucklehead',),\n",
       " ('1997 BMW R 1100 S',),\n",
       " ('1928 British Royal Navy Airplane',),\n",
       " ('1900s Vintage Bi-Plane',),\n",
       " ('1912 Ford Model T Delivery Wagon',),\n",
       " ('1937 Horch 930V Limousine',),\n",
       " ('1940 Ford Delivery Sedan',),\n",
       " ('Corsair F4U ( Bird Cage)',),\n",
       " ('The Schooner Bluenose',),\n",
       " ('HMS Bounty',),\n",
       " ('The USS Constitution Ship',),\n",
       " ('American Airlines: MD-11S',),\n",
       " ('Boeing X-32A JSF',),\n",
       " ('1969 Corvair Monza',),\n",
       " ('1969 Ford Falcon',),\n",
       " ('1903 Ford Model A',),\n",
       " ('Collectable Wooden Train',),\n",
       " ('1970 Triumph Spitfire',),\n",
       " ('1904 Buick Runabout',),\n",
       " ('18th century schooner',),\n",
       " ('1962 City of Detroit Streetcar',),\n",
       " ('The Mayflower',),\n",
       " ('1936 Mercedes Benz 500k Roadster',)]"
      ]
     },
     "execution_count": 25,
     "metadata": {},
     "output_type": "execute_result"
    }
   ],
   "source": [
    "# Products sold by Boston employees\n",
    "cur.execute('''SELECT productName from products \n",
    "JOIN orderDetails USING(productCode) \n",
    "JOIN orders USING(orderNumber)\n",
    "JOIN customers USING(customerNumber) \n",
    "JOIN employees on customers.salesRepEmployeeNumber = employees.employeeNumber \n",
    "JOIN offices USING(officeCode) \n",
    "WHERE offices.city = \"Tokyo\"''').fetchall()"
   ]
  },
  {
   "cell_type": "code",
   "execution_count": 24,
   "metadata": {},
   "outputs": [
    {
     "data": {
      "text/plain": [
       "[('2003-04-16',),\n",
       " ('2003-09-19',),\n",
       " ('2003-10-22',),\n",
       " ('2004-08-04',),\n",
       " ('2005-03-02',),\n",
       " ('2004-01-12',),\n",
       " ('2004-04-13',),\n",
       " ('2003-11-15',),\n",
       " ('2003-12-01',),\n",
       " ('2003-03-03',),\n",
       " ('2003-11-27',),\n",
       " ('2004-11-16',),\n",
       " ('2004-06-15',),\n",
       " ('2004-11-23',),\n",
       " ('2005-01-26',),\n",
       " ('2005-04-22',)]"
      ]
     },
     "execution_count": 24,
     "metadata": {},
     "output_type": "execute_result"
    }
   ],
   "source": [
    "# The dates of all orders placed by Tokyo employees\n",
    "cur.execute('''SELECT orderDate from orders \n",
    "JOIN customers USING(customerNumber) \n",
    "JOIN employees on customers.salesRepEmployeeNumber = employees.employeeNumber \n",
    "JOIN offices USING(officeCode) \n",
    "WHERE offices.city = \"Tokyo\"''').fetchall()"
   ]
  },
  {
   "cell_type": "code",
   "execution_count": null,
   "metadata": {},
   "outputs": [],
   "source": [
    "# Most money paid for a product and that product's name\n",
    "cur.execute('''SELECT productName, payments.amount FROM products\n",
    "JOIN orderdetails USING(productCode)\n",
    "JOIN orders USING(orderNumber)\n",
    "JOIN customers USING(customerNumber)\n",
    "JOIN payments USING(customerNumber)\n",
    "ORDER BY amount\n",
    "DESC\n",
    "LIMIT 1''').fetchall()"
   ]
  },
  {
   "cell_type": "markdown",
   "metadata": {},
   "source": [
    "## Level Up: Display the names of each product each employee has sold."
   ]
  },
  {
   "cell_type": "code",
   "execution_count": null,
   "metadata": {},
   "outputs": [],
   "source": [
    "# Your code here"
   ]
  },
  {
   "cell_type": "markdown",
   "metadata": {},
   "source": [
    "## Level Up: Display the Number of Products each Employee Has sold"
   ]
  },
  {
   "cell_type": "code",
   "execution_count": null,
   "metadata": {},
   "outputs": [],
   "source": [
    "#Your code here"
   ]
  },
  {
   "cell_type": "markdown",
   "metadata": {},
   "source": [
    "## Summary"
   ]
  },
  {
   "cell_type": "markdown",
   "metadata": {},
   "source": [
    "Congrats! You now know how to use Join statements, along with leveraging your foreign keys knowledge!"
   ]
  }
 ],
 "metadata": {
  "kernelspec": {
   "display_name": "Python 3",
   "language": "python",
   "name": "python3"
  },
  "language_info": {
   "codemirror_mode": {
    "name": "ipython",
    "version": 3
   },
   "file_extension": ".py",
   "mimetype": "text/x-python",
   "name": "python",
   "nbconvert_exporter": "python",
   "pygments_lexer": "ipython3",
   "version": "3.5.6"
  }
 },
 "nbformat": 4,
 "nbformat_minor": 2
}
